{
 "cells": [
  {
   "cell_type": "code",
   "execution_count": null,
   "metadata": {},
   "outputs": [],
   "source": [
    "%load_ext autoreload\n",
    "%autoreload 2\n",
    "\n",
    "import sys \n",
    "import glob\n",
    "import ray\n",
    "import logging \n",
    "import gc\n",
    "import cv2\n",
    "import time\n",
    "import itertools\n",
    "import pickle\n",
    "import pathlib \n",
    "import warnings \n",
    "warnings.filterwarnings('ignore')\n",
    "\n",
    "import numpy as np\n",
    "import pandas as pd\n",
    "import matplotlib.pyplot as plt \n",
    "\n",
    "import xarray as xr\n",
    "import matplotlib.gridspec as gridspec\n",
    "\n",
    "from tqdm.notebook import tqdm\n",
    "from matplotlib.backends.backend_pdf import PdfPages\n",
    "from scipy.signal import medfilt\n",
    "from pathlib import Path\n",
    "from scipy.optimize import minimize_scalar\n",
    "from scipy.stats import binned_statistic\n",
    "\n",
    "\n",
    "import torch\n",
    "import torch.nn as nn\n",
    "import torch.optim as optim\n",
    "import torchvision.utils as vutils\n",
    "import torch.nn.functional as F\n",
    "from torchvision import transforms\n",
    "from torch.utils.data import Dataset, DataLoader, TensorDataset, Subset\n",
    "from kornia.geometry.transform import Affine\n",
    "torch.backends.cudnn.benchmark = True\n",
    "\n",
    "# sys.path.append(str(Path('.').absolute()))\n",
    "from NLMixedUtils.utils import *\n",
    "import NLMixedUtils.io_dict_to_hdf5 as ioh5\n",
    "from NLMixedUtils.format_data import *\n",
    "from NLMixedUtils.models import *\n",
    "from NLMixedScripts.fit_GLM import *\n",
    "\n",
    "device = torch.device(\"cuda:{}\".format(get_freer_gpu()) if torch.cuda.is_available() else \"cpu\")\n",
    "\n",
    "# pd.set_option('display.max_rows', None)\n",
    "# %matplotlib widget\n",
    "# ray.init(\n",
    "#     ignore_reinit_error=True,\n",
    "#     logging_level=logging.ERROR,\n",
    "# )\n"
   ]
  },
  {
   "cell_type": "code",
   "execution_count": null,
   "metadata": {},
   "outputs": [],
   "source": []
  },
  {
   "cell_type": "code",
   "execution_count": null,
   "metadata": {},
   "outputs": [],
   "source": []
  },
  {
   "cell_type": "code",
   "execution_count": null,
   "metadata": {},
   "outputs": [],
   "source": [
    "NKfold = 1\n",
    "test_train_size = .75\n",
    "frac = .1\n",
    "def get_train_test_split(data,NKfold=1,test_train_size=.75,frac=.1):\n",
    "    gss = GroupShuffleSplit(n_splits=NKfold, train_size=test_train_size, random_state=42)\n",
    "    nT = data['model_nsp'].shape[0]\n",
    "    groups = np.hstack([i*np.ones(int((frac*i)*nT) - int((frac*(i-1))*nT)) for i in range(1,int(1/frac)+1)])\n",
    "\n",
    "    train_idx_list=[]\n",
    "    test_idx_list = []\n",
    "    for train_idx, test_idx in gss.split(np.arange(data.shape[0]), groups=groups):\n",
    "        train_idx_list.append(train_idx)\n",
    "        test_idx_list.append(test_idx)\n",
    "    return train_idx_list, test_idx_list"
   ]
  },
  {
   "cell_type": "code",
   "execution_count": null,
   "metadata": {},
   "outputs": [],
   "source": []
  },
  {
   "cell_type": "code",
   "execution_count": null,
   "metadata": {},
   "outputs": [],
   "source": []
  }
 ],
 "metadata": {
  "language_info": {
   "name": "python"
  },
  "orig_nbformat": 4
 },
 "nbformat": 4,
 "nbformat_minor": 2
}
