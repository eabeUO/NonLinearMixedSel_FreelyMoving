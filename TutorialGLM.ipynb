{
 "cells": [
  {
   "cell_type": "code",
   "execution_count": 1,
   "metadata": {},
   "outputs": [],
   "source": [
    "%load_ext autoreload\n",
    "%autoreload 2\n",
    "\n",
    "import sys \n",
    "import glob\n",
    "import ray\n",
    "import logging \n",
    "import gc\n",
    "import cv2\n",
    "import time\n",
    "import itertools\n",
    "import pickle\n",
    "import pathlib \n",
    "import warnings \n",
    "warnings.filterwarnings('ignore')\n",
    "\n",
    "import numpy as np\n",
    "import pandas as pd\n",
    "import matplotlib.pyplot as plt \n",
    "\n",
    "import xarray as xr\n",
    "import matplotlib.gridspec as gridspec\n",
    "\n",
    "from tqdm.notebook import tqdm\n",
    "from matplotlib.backends.backend_pdf import PdfPages\n",
    "from scipy.signal import medfilt\n",
    "from pathlib import Path\n",
    "from scipy.optimize import minimize_scalar\n",
    "from scipy.stats import binned_statistic\n",
    "from sklearn.model_selection import GroupShuffleSplit\n",
    "\n",
    "\n",
    "import torch\n",
    "import torch.nn as nn\n",
    "import torch.optim as optim\n",
    "import torchvision.utils as vutils\n",
    "import torch.nn.functional as F\n",
    "from torchvision import transforms\n",
    "from torch.utils.data import Dataset, DataLoader, TensorDataset, Subset\n",
    "from kornia.geometry.transform import Affine\n",
    "torch.backends.cudnn.benchmark = True\n",
    "\n",
    "# sys.path.append(str(Path('.').absolute()))\n",
    "from Utils.utils import *\n",
    "import Utils.io_dict_to_hdf5 as ioh5\n",
    "from Utils.format_data import *\n",
    "from main.models import *\n",
    "from main.fit_GLM import *\n",
    "\n",
    "device = torch.device(\"cuda:{}\".format(get_freer_gpu()) if torch.cuda.is_available() else \"cpu\")\n",
    "\n",
    "# pd.set_option('display.max_rows', None)\n",
    "# %matplotlib widget\n",
    "# ray.init(\n",
    "#     ignore_reinit_error=True,\n",
    "#     logging_level=logging.ERROR,\n",
    "# )\n"
   ]
  },
  {
   "cell_type": "code",
   "execution_count": null,
   "metadata": {},
   "outputs": [],
   "source": []
  },
  {
   "cell_type": "code",
   "execution_count": null,
   "metadata": {},
   "outputs": [],
   "source": []
  },
  {
   "cell_type": "code",
   "execution_count": 10,
   "metadata": {},
   "outputs": [],
   "source": [
    "NKfold = 1\n",
    "test_train_size = .75\n",
    "frac = .1\n",
    "def get_train_test_split(data,NKfold=1,test_train_size=.75,frac=.1):\n",
    "    gss = GroupShuffleSplit(n_splits=NKfold, train_size=test_train_size, random_state=42)\n",
    "    nT = data.shape[0]\n",
    "    groups = np.hstack([i*np.ones(int((frac*i)*nT) - int((frac*(i-1))*nT)) for i in range(1,int(1/frac)+1)])\n",
    "\n",
    "    train_idx_list=[]\n",
    "    test_idx_list = []\n",
    "    for train_idx, test_idx in gss.split(np.arange(data.shape[0]), groups=groups):\n",
    "        train_idx_list.append(train_idx)\n",
    "        test_idx_list.append(test_idx)\n",
    "    return train_idx_list, test_idx_list"
   ]
  },
  {
   "cell_type": "code",
   "execution_count": 64,
   "metadata": {},
   "outputs": [],
   "source": [
    "xt = xdata.iloc[:,:5].to_numpy()\n",
    "yt = ydata.to_numpy()"
   ]
  },
  {
   "cell_type": "code",
   "execution_count": 66,
   "metadata": {},
   "outputs": [
    {
     "data": {
      "text/plain": [
       "((54038, 5678), (54038, 5))"
      ]
     },
     "execution_count": 66,
     "metadata": {},
     "output_type": "execute_result"
    }
   ],
   "source": [
    "yt.shape,xt.shape"
   ]
  },
  {
   "cell_type": "code",
   "execution_count": 67,
   "metadata": {},
   "outputs": [],
   "source": [
    "train_idx_list, test_idx_list = get_train_test_split(xt)"
   ]
  },
  {
   "cell_type": "code",
   "execution_count": 68,
   "metadata": {},
   "outputs": [],
   "source": [
    "x_train = xt[train_idx_list[0]]\n",
    "y_train = yt[train_idx_list[0]]\n",
    "x_test = xt[test_idx_list[0]]\n",
    "y_test = yt[test_idx_list[0]]\n",
    "\n",
    "xtr = torch.from_numpy(x_train).float()\n",
    "xte = torch.from_numpy(x_test).float()\n",
    "ytr = torch.from_numpy(y_train).float()\n",
    "yte = torch.from_numpy(y_test).float()\n"
   ]
  },
  {
   "cell_type": "code",
   "execution_count": 69,
   "metadata": {},
   "outputs": [],
   "source": [
    "input_size = xt.shape[1] # number of inputs\n",
    "output_size= yt.shape[1] # number of cells"
   ]
  },
  {
   "cell_type": "code",
   "execution_count": 70,
   "metadata": {},
   "outputs": [],
   "source": [
    "args = arg_parser(jupyter=True)\n",
    "MovModel = 1\n",
    "Kfold = 0\n",
    "args['free_move'] = True\n",
    "if args['free_move']:\n",
    "    stim_type = 'fm1'\n",
    "else:\n",
    "    stim_type = 'hf1_wn'  # 'fm1' #\n",
    "\n",
    "dates_all = ['070921/J553RT' ,'101521/J559NC','102821/J570LT','110421/J569LT']#,'122021/J581RT','020422/J577RT'] # '102621/J558NC' '062921/G6HCK1ALTRN',\n",
    "args['date_ani']        = dates_all[0]\n",
    "args['train_shifter']   = False\n",
    "args['NoL1']            = True\n",
    "args['NoL2']            = False\n",
    "args['reg_lap']         = False\n",
    "args['complex']         = False\n",
    "args['do_shuffle']      = False\n",
    "args['use_spdpup']      = True\n",
    "args['Nepochs'] = 10000\n",
    "\n",
    "\n",
    "params,file_dict,exp = load_params(MovModel,Kfold,args,{},debug=True)\n",
    "\n",
    "params['lag_list']     = [0]\n",
    "params['nt_glm_lag']   = len(params['lag_list'])\n",
    "\n"
   ]
  },
  {
   "cell_type": "code",
   "execution_count": 71,
   "metadata": {},
   "outputs": [],
   "source": [
    "params['nks'] = np.shape(xt)[1:]\n",
    "params['nk'] = params['nks'][0]*params['nt_glm_lag']\n",
    "shift_in_tr = None\n",
    "shift_in_te = None\n",
    "xtrm = None\n",
    "xtem = None\n",
    "\n",
    "# Regularization parameters\n",
    "params['move_features'] = None\n",
    "params['alphas'] = np.array([.0001 if params['NoL1']==False else None])\n",
    "if params['NoL2']:\n",
    "    params['lambdas'] = np.array([0])\n",
    "else:\n",
    "    params['lambdas'] = np.hstack((np.logspace(-2, 3, 20)))\n",
    "    params['nlam'] = len(params['lambdas'])\n",
    "if params['reg_lap']:\n",
    "    params['alpha_l'] = np.hstack((np.logspace(2, 8, 20,base=10)))\n",
    "    params['nlam'] = len(params['alpha_l'])\n",
    "else:\n",
    "    params['alpha_l'] = np.array(params['nlam']*[None])\n",
    "params['nalph'] = len(params['alphas'])\n",
    "params['lambdas_m'] = np.array(params['nlam']*[None])\n",
    "params['alphas_m'] = np.array(params['nalph']*[None])\n",
    "params['lr_w'] = [1e-5, 1e-3]\n",
    "params['lap_M'] = None\n",
    "params['NoShifter']=True\n",
    "params['lr_b'] = [1e-5, 5e-3]\n",
    "params['lr_shift'] = [1e-3,1e-2]\n",
    "params['Ncells'] = y_train.shape[-1]"
   ]
  },
  {
   "cell_type": "code",
   "execution_count": 72,
   "metadata": {},
   "outputs": [],
   "source": [
    "meanbias = torch.mean(torch.from_numpy(y_train).float(), axis=0)"
   ]
  },
  {
   "cell_type": "code",
   "execution_count": 73,
   "metadata": {},
   "outputs": [],
   "source": [
    "l1,optimizer,scheduler = get_model(input_size, output_size, meanbias, 1, device, 0, 0, params, NepochVis=10000)"
   ]
  },
  {
   "cell_type": "code",
   "execution_count": 74,
   "metadata": {},
   "outputs": [],
   "source": [
    "out = l1(xtr, xtrm, shift_in_tr)\n",
    "loss = l1.loss(out, ytr)"
   ]
  },
  {
   "cell_type": "code",
   "execution_count": 75,
   "metadata": {},
   "outputs": [
    {
     "data": {
      "text/plain": [
       "[<matplotlib.lines.Line2D at 0x7f6a9810fca0>]"
      ]
     },
     "execution_count": 75,
     "metadata": {},
     "output_type": "execute_result"
    },
    {
     "data": {
      "image/png": "[encoded data removed]",
      "text/plain": [
       "<Figure size 432x288 with 1 Axes>"
      ]
     },
     "metadata": {
      "needs_background": "light"
     },
     "output_type": "display_data"
    }
   ],
   "source": [
    "plt.plot(loss.detach().numpy())"
   ]
  },
  {
   "cell_type": "code",
   "execution_count": 56,
   "metadata": {},
   "outputs": [
    {
     "data": {
      "application/vnd.jupyter.widget-view+json": {
       "model_id": "f9389b6773564e6abd96a9f177920a9e",
       "version_major": 2,
       "version_minor": 0
      },
      "text/plain": [
       "  0%|          | 0/10000 [00:00<?, ?it/s]"
      ]
     },
     "metadata": {},
     "output_type": "display_data"
    },
    {
     "ename": "KeyboardInterrupt",
     "evalue": "",
     "output_type": "error",
     "traceback": [
      "\u001b[0;31m---------------------------------------------------------------------------\u001b[0m",
      "\u001b[0;31mKeyboardInterrupt\u001b[0m                         Traceback (most recent call last)",
      "Input \u001b[0;32mIn [56]\u001b[0m, in \u001b[0;36m<cell line: 1>\u001b[0;34m()\u001b[0m\n\u001b[0;32m----> 1\u001b[0m vloss_trace, tloss_trace, l1, optimizer, scheduler, Epoch_GLM \u001b[38;5;241m=\u001b[39m \u001b[43mtrain_model\u001b[49m\u001b[43m(\u001b[49m\u001b[43mxtr\u001b[49m\u001b[43m,\u001b[49m\u001b[43mxte\u001b[49m\u001b[43m,\u001b[49m\u001b[43mxtrm\u001b[49m\u001b[43m,\u001b[49m\u001b[43mxtem\u001b[49m\u001b[43m,\u001b[49m\u001b[43mshift_in_tr\u001b[49m\u001b[43m,\u001b[49m\u001b[43mshift_in_te\u001b[49m\u001b[43m,\u001b[49m\u001b[43mytr\u001b[49m\u001b[43m,\u001b[49m\u001b[43myte\u001b[49m\u001b[43m,\u001b[49m\u001b[43mparams\u001b[49m\u001b[43m[\u001b[49m\u001b[38;5;124;43m'\u001b[39;49m\u001b[38;5;124;43mNepochs\u001b[39;49m\u001b[38;5;124;43m'\u001b[39;49m\u001b[43m]\u001b[49m\u001b[43m,\u001b[49m\u001b[43ml1\u001b[49m\u001b[43m,\u001b[49m\u001b[43moptimizer\u001b[49m\u001b[43m,\u001b[49m\u001b[43mscheduler\u001b[49m\u001b[43m,\u001b[49m\u001b[43mpbar\u001b[49m\u001b[38;5;241;43m=\u001b[39;49m\u001b[38;5;28;43;01mNone\u001b[39;49;00m\u001b[43m)\u001b[49m\n",
      "File \u001b[0;32m/mnt/c/Users/McCormick Lab/Documents/GitHub/NonLinearMixedSel_FreelyMoving/NLMixedScripts/fit_GLM.py:255\u001b[0m, in \u001b[0;36mtrain_model\u001b[0;34m(xtr, xte, xtrm, xtem, shift_in_tr, shift_in_te, ytr, yte, Nepochs, l1, optimizer, scheduler, pbar, track_all)\u001b[0m\n\u001b[1;32m    253\u001b[0m pbar\u001b[38;5;241m.\u001b[39mrefresh()\n\u001b[1;32m    254\u001b[0m optimizer\u001b[38;5;241m.\u001b[39mzero_grad()\n\u001b[0;32m--> 255\u001b[0m \u001b[43mloss\u001b[49m\u001b[38;5;241;43m.\u001b[39;49m\u001b[43mbackward\u001b[49m\u001b[43m(\u001b[49m\u001b[43mtorch\u001b[49m\u001b[38;5;241;43m.\u001b[39;49m\u001b[43mones_like\u001b[49m\u001b[43m(\u001b[49m\u001b[43mloss\u001b[49m\u001b[43m)\u001b[49m\u001b[43m)\u001b[49m\n\u001b[1;32m    256\u001b[0m optimizer\u001b[38;5;241m.\u001b[39mstep()\n\u001b[1;32m    257\u001b[0m \u001b[38;5;28;01mif\u001b[39;00m scheduler \u001b[38;5;129;01mis\u001b[39;00m \u001b[38;5;129;01mnot\u001b[39;00m \u001b[38;5;28;01mNone\u001b[39;00m:\n",
      "File \u001b[0;32m~/miniconda3/envs/pytorchGLM/lib/python3.8/site-packages/torch/_tensor.py:363\u001b[0m, in \u001b[0;36mTensor.backward\u001b[0;34m(self, gradient, retain_graph, create_graph, inputs)\u001b[0m\n\u001b[1;32m    354\u001b[0m \u001b[38;5;28;01mif\u001b[39;00m has_torch_function_unary(\u001b[38;5;28mself\u001b[39m):\n\u001b[1;32m    355\u001b[0m     \u001b[38;5;28;01mreturn\u001b[39;00m handle_torch_function(\n\u001b[1;32m    356\u001b[0m         Tensor\u001b[38;5;241m.\u001b[39mbackward,\n\u001b[1;32m    357\u001b[0m         (\u001b[38;5;28mself\u001b[39m,),\n\u001b[0;32m   (...)\u001b[0m\n\u001b[1;32m    361\u001b[0m         create_graph\u001b[38;5;241m=\u001b[39mcreate_graph,\n\u001b[1;32m    362\u001b[0m         inputs\u001b[38;5;241m=\u001b[39minputs)\n\u001b[0;32m--> 363\u001b[0m \u001b[43mtorch\u001b[49m\u001b[38;5;241;43m.\u001b[39;49m\u001b[43mautograd\u001b[49m\u001b[38;5;241;43m.\u001b[39;49m\u001b[43mbackward\u001b[49m\u001b[43m(\u001b[49m\u001b[38;5;28;43mself\u001b[39;49m\u001b[43m,\u001b[49m\u001b[43m \u001b[49m\u001b[43mgradient\u001b[49m\u001b[43m,\u001b[49m\u001b[43m \u001b[49m\u001b[43mretain_graph\u001b[49m\u001b[43m,\u001b[49m\u001b[43m \u001b[49m\u001b[43mcreate_graph\u001b[49m\u001b[43m,\u001b[49m\u001b[43m \u001b[49m\u001b[43minputs\u001b[49m\u001b[38;5;241;43m=\u001b[39;49m\u001b[43minputs\u001b[49m\u001b[43m)\u001b[49m\n",
      "File \u001b[0;32m~/miniconda3/envs/pytorchGLM/lib/python3.8/site-packages/torch/autograd/__init__.py:173\u001b[0m, in \u001b[0;36mbackward\u001b[0;34m(tensors, grad_tensors, retain_graph, create_graph, grad_variables, inputs)\u001b[0m\n\u001b[1;32m    168\u001b[0m     retain_graph \u001b[38;5;241m=\u001b[39m create_graph\n\u001b[1;32m    170\u001b[0m \u001b[38;5;66;03m# The reason we repeat same the comment below is that\u001b[39;00m\n\u001b[1;32m    171\u001b[0m \u001b[38;5;66;03m# some Python versions print out the first line of a multi-line function\u001b[39;00m\n\u001b[1;32m    172\u001b[0m \u001b[38;5;66;03m# calls in the traceback and some print out the last line\u001b[39;00m\n\u001b[0;32m--> 173\u001b[0m \u001b[43mVariable\u001b[49m\u001b[38;5;241;43m.\u001b[39;49m\u001b[43m_execution_engine\u001b[49m\u001b[38;5;241;43m.\u001b[39;49m\u001b[43mrun_backward\u001b[49m\u001b[43m(\u001b[49m\u001b[43m  \u001b[49m\u001b[38;5;66;43;03m# Calls into the C++ engine to run the backward pass\u001b[39;49;00m\n\u001b[1;32m    174\u001b[0m \u001b[43m    \u001b[49m\u001b[43mtensors\u001b[49m\u001b[43m,\u001b[49m\u001b[43m \u001b[49m\u001b[43mgrad_tensors_\u001b[49m\u001b[43m,\u001b[49m\u001b[43m \u001b[49m\u001b[43mretain_graph\u001b[49m\u001b[43m,\u001b[49m\u001b[43m \u001b[49m\u001b[43mcreate_graph\u001b[49m\u001b[43m,\u001b[49m\u001b[43m \u001b[49m\u001b[43minputs\u001b[49m\u001b[43m,\u001b[49m\n\u001b[1;32m    175\u001b[0m \u001b[43m    \u001b[49m\u001b[43mallow_unreachable\u001b[49m\u001b[38;5;241;43m=\u001b[39;49m\u001b[38;5;28;43;01mTrue\u001b[39;49;00m\u001b[43m,\u001b[49m\u001b[43m \u001b[49m\u001b[43maccumulate_grad\u001b[49m\u001b[38;5;241;43m=\u001b[39;49m\u001b[38;5;28;43;01mTrue\u001b[39;49;00m\u001b[43m)\u001b[49m\n",
      "\u001b[0;31mKeyboardInterrupt\u001b[0m: "
     ]
    }
   ],
   "source": [
    "vloss_trace, tloss_trace, l1, optimizer, scheduler, Epoch_GLM = train_model(xtr,xte,xtrm,xtem,shift_in_tr,shift_in_te,ytr,yte,params['Nepochs'],l1,optimizer,scheduler,pbar=None)"
   ]
  },
  {
   "cell_type": "code",
   "execution_count": 77,
   "metadata": {},
   "outputs": [],
   "source": [
    "pred = l1(xte, xtem, shift_in_te)\n",
    "pred_test = pred.detach().numpy()\n",
    "r2_test = np.array([(np.corrcoef(y_test[:,celln],pred_test[:,celln])[0, 1])**2 for celln in range(params['Ncells'])])"
   ]
  },
  {
   "cell_type": "code",
   "execution_count": 78,
   "metadata": {},
   "outputs": [
    {
     "data": {
      "text/plain": [
       "array([       nan, 0.05196764,        nan, ..., 0.00019907, 0.00242629,\n",
       "       0.00045736])"
      ]
     },
     "execution_count": 78,
     "metadata": {},
     "output_type": "execute_result"
    }
   ],
   "source": [
    "r2_test"
   ]
  },
  {
   "cell_type": "code",
   "execution_count": null,
   "metadata": {},
   "outputs": [],
   "source": []
  }
 ],
 "metadata": {
  "kernelspec": {
   "display_name": "Python 3.8.0 ('pytorch')",
   "language": "python",
   "name": "python3"
  },
  "language_info": {
   "codemirror_mode": {
    "name": "ipython",
    "version": 3
   },
   "file_extension": ".py",
   "mimetype": "text/x-python",
   "name": "python",
   "nbconvert_exporter": "python",
   "pygments_lexer": "ipython3",
   "version": "3.8.0"
  },
  "vscode": {
   "interpreter": {
    "hash": "ae2df1b5b2cc9cafc9aad66187e6d6dd9c60927ae7fe28644cf330a9c23b714e"
   }
  }
 },
 "nbformat": 4,
 "nbformat_minor": 4
}
