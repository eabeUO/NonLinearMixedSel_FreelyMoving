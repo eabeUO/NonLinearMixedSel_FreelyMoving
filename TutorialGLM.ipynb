{
 "cells": [
  {
   "cell_type": "code",
   "execution_count": 1,
   "metadata": {},
   "outputs": [],
   "source": [
    "%load_ext autoreload\n",
    "%autoreload 2\n",
    "\n",
    "import sys \n",
    "import glob\n",
    "import ray\n",
    "import logging \n",
    "import gc\n",
    "import cv2\n",
    "import time\n",
    "import itertools\n",
    "import pickle\n",
    "import pathlib \n",
    "import warnings \n",
    "warnings.filterwarnings('ignore')\n",
    "\n",
    "import numpy as np\n",
    "import pandas as pd\n",
    "import matplotlib.pyplot as plt \n",
    "\n",
    "import xarray as xr\n",
    "import matplotlib.gridspec as gridspec\n",
    "\n",
    "from tqdm.notebook import tqdm\n",
    "from matplotlib.backends.backend_pdf import PdfPages\n",
    "from scipy.signal import medfilt\n",
    "from pathlib import Path\n",
    "from scipy.optimize import minimize_scalar\n",
    "from scipy.stats import binned_statistic\n",
    "from sklearn.model_selection import GroupShuffleSplit\n",
    "\n",
    "\n",
    "import torch\n",
    "import torch.nn as nn\n",
    "import torch.optim as optim\n",
    "import torchvision.utils as vutils\n",
    "import torch.nn.functional as F\n",
    "from torchvision import transforms\n",
    "from torch.utils.data import Dataset, DataLoader, TensorDataset, Subset\n",
    "from kornia.geometry.transform import Affine\n",
    "torch.backends.cudnn.benchmark = True\n",
    "\n",
    "# sys.path.append(str(Path('.').absolute()))\n",
    "from NLMixedUtils.utils import *\n",
    "import NLMixedUtils.io_dict_to_hdf5 as ioh5\n",
    "from NLMixedUtils.format_data import *\n",
    "from NLMixedUtils.models import *\n",
    "from NLMixedScripts.fit_GLM import *\n",
    "\n",
    "device = torch.device(\"cuda:{}\".format(get_freer_gpu()) if torch.cuda.is_available() else \"cpu\")\n",
    "\n",
    "# pd.set_option('display.max_rows', None)\n",
    "# %matplotlib widget\n",
    "# ray.init(\n",
    "#     ignore_reinit_error=True,\n",
    "#     logging_level=logging.ERROR,\n",
    "# )\n"
   ]
  },
  {
   "cell_type": "code",
   "execution_count": null,
   "metadata": {},
   "outputs": [],
   "source": []
  },
  {
   "cell_type": "code",
   "execution_count": null,
   "metadata": {},
   "outputs": [],
   "source": []
  },
  {
   "cell_type": "code",
   "execution_count": 10,
   "metadata": {},
   "outputs": [],
   "source": [
    "NKfold = 1\n",
    "test_train_size = .75\n",
    "frac = .1\n",
    "def get_train_test_split(data,NKfold=1,test_train_size=.75,frac=.1):\n",
    "    gss = GroupShuffleSplit(n_splits=NKfold, train_size=test_train_size, random_state=42)\n",
    "    nT = data.shape[0]\n",
    "    groups = np.hstack([i*np.ones(int((frac*i)*nT) - int((frac*(i-1))*nT)) for i in range(1,int(1/frac)+1)])\n",
    "\n",
    "    train_idx_list=[]\n",
    "    test_idx_list = []\n",
    "    for train_idx, test_idx in gss.split(np.arange(data.shape[0]), groups=groups):\n",
    "        train_idx_list.append(train_idx)\n",
    "        test_idx_list.append(test_idx)\n",
    "    return train_idx_list, test_idx_list"
   ]
  },
  {
   "cell_type": "code",
   "execution_count": 3,
   "metadata": {},
   "outputs": [
    {
     "name": "stdin",
     "output_type": "stream",
     "text": [
      "Enter full path and filename of standard frames file to load /mnt/c/Users/McCormick Lab/Documents/Python/uobrainflex/scripts/plots/3056_200924_E235_1_00003_00001/standard_frames_3056_200924_E235_1_00003_00001_20220510-133446.npy\n"
     ]
    },
    {
     "name": "stdout",
     "output_type": "stream",
     "text": [
      "['behav_resamp_frame', 'behav_corr_frame', 'dfof_upsamp_frame', 'bsoid_frame', 'roi_info_frame', 'areas', 'iscell', 'ops', 'behav_t', 'ppl_t', 'movie_t', 'meso_t', 'dfof_upsamp_frame.index', 'session_masks', 'iscell_masks', 'area_num', 'outlines_flat', 'nROIs', 'stat', 'fsuffix']\n",
      "20\n",
      "Variable                  Type                            Data/Info\n",
      "-------------------------------------------------------------------\n",
      "ActorHandle               type                            <class 'ray.actor.ActorHandle'>\n",
      "Affine                    type                            <class 'kornia.geometry.t<...>ransform.affwarp.Affine'>\n",
      "ComplexVisNetwork         type                            <class 'NLMixedUtils.models.ComplexVisNetwork'>\n",
      "DataLoader                type                            <class 'torch.utils.data.dataloader.DataLoader'>\n",
      "Dataset                   type                            <class 'torch.utils.data.dataset.Dataset'>\n",
      "EarlyStopping             type                            <class 'NLMixedUtils.utils.EarlyStopping'>\n",
      "Event                     type                            <class 'asyncio.locks.Event'>\n",
      "Experiment                type                            <class 'test_tube.log.Experiment'>\n",
      "F                         module                          <module 'torch.nn.functio<...>/torch/nn/functional.py'>\n",
      "GroupShuffleSplit         ABCMeta                         <class 'sklearn.model_sel<...>split.GroupShuffleSplit'>\n",
      "LinVisNetwork             type                            <class 'NLMixedUtils.models.LinVisNetwork'>\n",
      "Linear                    type                            <class 'torch.nn.modules.linear.Linear'>\n",
      "LinearRegression          ABCMeta                         <class 'sklearn.linear_mo<...>._base.LinearRegression'>\n",
      "NKfold                    int                             1\n",
      "Path                      type                            <class 'pathlib.Path'>\n",
      "PdfPages                  type                            <class 'matplotlib.backen<...>ds.backend_pdf.PdfPages'>\n",
      "ProgressBar               type                            <class 'NLMixedUtils.format_data.ProgressBar'>\n",
      "ProgressBarActor          ActorClass(ProgressBarActor)    <NLMixedUtils.format_data<...>object at 0x7f6aeb67fa30>\n",
      "Softplus                  type                            <class 'torch.nn.modules.activation.Softplus'>\n",
      "Subset                    type                            <class 'torch.utils.data.dataset.Subset'>\n",
      "TensorDataset             type                            <class 'torch.utils.data.dataset.TensorDataset'>\n",
      "Tuple                     _VariadicGenericAlias           typing.Tuple\n",
      "add_colorbar              function                        <function add_colorbar at 0x7f6aec1db5e0>\n",
      "area_num                  int                             44\n",
      "areas                     ndarray                         62: 62 elems, type `<U9`, 2232 bytes\n",
      "arg_parser                function                        <function arg_parser at 0x7f6aebd928b0>\n",
      "argparse                  module                          <module 'argparse' from '<...>b/python3.8/argparse.py'>\n",
      "behav_corr_frame          DataFrame                             lft_whisk_corr  rt_<...>\\n[5678 rows x 5 columns]\n",
      "behav_resamp_frame        DataFrame                                    lft_ppl_ser <...>n[54038 rows x 9 columns]\n",
      "behav_t                   ndarray                         28954099: 28954099 elems, type `float64`, 231632792 bytes (220.9022445678711 Mb)\n",
      "binned_statistic          function                        <function binned_statistic at 0x7f6afe6a08b0>\n",
      "bsoid_frame               DataFrame                                      0\\n0.00000<...>[162000 rows x 1 columns]\n",
      "chain                     type                            <class 'itertools.chain'>\n",
      "check_path                function                        <function check_path at 0x7f6aec3e6670>\n",
      "consecutive               function                        <function consecutive at 0x7f6aeb68c8b0>\n",
      "cv2                       module                          <module 'cv2' from '/home<...>ackages/cv2/__init__.py'>\n",
      "device                    device                          cpu\n",
      "dfof_upsamp_frame         DataFrame                                        0       <...>4038 rows x 5678 columns]\n",
      "dfof_upsamp_frame.index   Float64Index                    Float64Index([           <...>='float64', length=54038)\n",
      "discrete_cmap             function                        <function discrete_cmap at 0x7f6aec3e6af0>\n",
      "f_add                     function                        <function f_add at 0x7f6aeb68c700>\n",
      "f_mult                    function                        <function f_mult at 0x7f6aeb68c790>\n",
      "frac                      float                           0.1\n",
      "fsuffix                   str                             3056_200924_E235_1_00003_00001\n",
      "gc                        module                          <module 'gc' (built-in)>\n",
      "getList                   function                        <function getList at 0x7f6b483551f0>\n",
      "get_complex_model         function                        <function get_complex_model at 0x7f6aeb68b790>\n",
      "get_freer_gpu             function                        <function get_freer_gpu at 0x7f6aec1dba60>\n",
      "get_model                 function                        <function get_model at 0x7f6aeb68b5e0>\n",
      "get_modeltype             function                        <function get_modeltype at 0x7f6aeb68bdc0>\n",
      "get_train_test_split      function                        <function get_train_test_split at 0x7f6b48106c10>\n",
      "glob                      module                          <module 'glob' from '/hom<...>M/lib/python3.8/glob.py'>\n",
      "grab_aligned_data         function                        <function grab_aligned_data at 0x7f6aeb68b700>\n",
      "gridspec                  module                          <module 'matplotlib.grids<...>/matplotlib/gridspec.py'>\n",
      "i                         int                             19\n",
      "imshift                   function                        <function shift at 0x7f6afeeb6f70>\n",
      "interp1d                  type                            <class 'scipy.interpolate._interpolate.interp1d'>\n",
      "interp_nans               function                        <function interp_nans at 0x7f6aec1db790>\n",
      "ioh5                      module                          <module 'NLMixedUtils.io_<...>tils/io_dict_to_hdf5.py'>\n",
      "iscell                    ndarray                         6384x2: 12768 elems, type `float64`, 102144 bytes (99.75 kb)\n",
      "iscell_masks              ndarray                         6384: 6384 elems, type `int32`, 25536 bytes\n",
      "itemgetter                type                            <class 'operator.itemgetter'>\n",
      "itertools                 module                          <module 'itertools' (built-in)>\n",
      "load_GLM_data             function                        <function load_GLM_data at 0x7f6aeb68bd30>\n",
      "load_Kfold_data           function                        <function load_Kfold_data at 0x7f6aeb68c670>\n",
      "load_Kfold_forPlots       function                        <function load_Kfold_forPlots at 0x7f6aeb68c5e0>\n",
      "load_ephys_data_aligned   function                        <function load_ephys_data<...>ligned at 0x7f6aeb686310>\n",
      "load_params               function                        <function load_params at 0x7f6aeb68be50>\n",
      "load_train_test           function                        <function load_train_test at 0x7f6aeb68c280>\n",
      "logging                   module                          <module 'logging' from '/<...>3.8/logging/__init__.py'>\n",
      "medfilt                   function                        <function medfilt at 0x7f6afee9e1f0>\n",
      "meso_t                    ndarray                         18252: 18252 elems, type `float64`, 146016 bytes (142.59375 kb)\n",
      "minimize_scalar           function                        <function minimize_scalar at 0x7f6affa02c10>\n",
      "movie_t                   ndarray                         162000: 162000 elems, type `float64`, 1296000 bytes (1.2359619140625 Mb)\n",
      "nROIs                     int                             6384\n",
      "nan_helper                function                        <function nan_helper at 0x7f6aec1db700>\n",
      "nanxcorr                  function                        <function nanxcorr at 0x7f6aec1db820>\n",
      "nn                        module                          <module 'torch.nn' from '<...>es/torch/nn/__init__.py'>\n",
      "normimgs                  function                        <function normimgs at 0x7f6aec1db550>\n",
      "np                        module                          <module 'numpy' from '/ho<...>kages/numpy/__init__.py'>\n",
      "npy_dict                  dict                            n=20\n",
      "npy_dict_list             list                            n=20\n",
      "npy_dict_name             str                             /mnt/c/Users/McCormick La<...>00001_20220510-133446.npy\n",
      "ops                       dict                            n=100\n",
      "optim                     module                          <module 'torch.optim' fro<...>torch/optim/__init__.py'>\n",
      "os                        module                          <module 'os' from '/home/<...>GLM/lib/python3.8/os.py'>\n",
      "outlines_flat             ndarray                         924x1000: 924000 elems, type `int32`, 3696000 bytes (3.5247802734375 Mb)\n",
      "pathlib                   module                          <module 'pathlib' from '/<...>ib/python3.8/pathlib.py'>\n",
      "pd                        module                          <module 'pandas' from '/h<...>ages/pandas/__init__.py'>\n",
      "pickle                    module                          <module 'pickle' from '/h<...>lib/python3.8/pickle.py'>\n",
      "plt                       module                          <module 'matplotlib.pyplo<...>es/matplotlib/pyplot.py'>\n",
      "ppl_t                     ndarray                         173654: 173654 elems, type `float64`, 1389232 bytes (1.3248748779296875 Mb)\n",
      "ray                       module                          <module 'ray' from '/home<...>ackages/ray/__init__.py'>\n",
      "roi_info_frame            DataFrame                             iscell_masks_cell  <...>n[5678 rows x 11 columns]\n",
      "session_masks             ndarray                         62x924x1000: 57288000 elems, type `float64`, 458304000 bytes (437.07275390625 Mb)\n",
      "shift_vid_parallel        RemoteFunction                  <ray.remote_function.Remo<...>object at 0x7f6aeb79ecd0>\n",
      "shift_world_pt2           RemoteFunction                  <ray.remote_function.Remo<...>object at 0x7f6aeb673eb0>\n",
      "shuffle                   function                        <function shuffle at 0x7f6afde6f790>\n",
      "sizeof_fmt                function                        <function sizeof_fmt at 0x7f6aec1db670>\n",
      "sns                       module                          <module 'seaborn' from '/<...>ges/seaborn/__init__.py'>\n",
      "stat                      ndarray                         6384: 6384 elems, type `object`, 51072 bytes\n",
      "str_to_bool               function                        <function str_to_bool at 0x7f6aec1db8b0>\n",
      "sys                       module                          <module 'sys' (built-in)>\n",
      "test_train_size           float                           0.75\n",
      "time                      module                          <module 'time' (built-in)>\n",
      "torch                     module                          <module 'torch' from '/ho<...>kages/torch/__init__.py'>\n",
      "tqdm                      type                            <class 'tqdm.auto.tqdm'>\n",
      "train_model               function                        <function train_model at 0x7f6aeb68bca0>\n",
      "transforms                module                          <module 'torchvision.tran<...>/transforms/__init__.py'>\n",
      "tuning_curve              function                        <function tuning_curve at 0x7f6aeb68c820>\n",
      "vutils                    module                          <module 'torchvision.util<...>es/torchvision/utils.py'>\n",
      "warnings                  module                          <module 'warnings' from '<...>b/python3.8/warnings.py'>\n",
      "xr                        module                          <module 'xarray' from '/h<...>ages/xarray/__init__.py'>\n",
      "yaml                      module                          <module 'yaml' from '/hom<...>ckages/yaml/__init__.py'>\n"
     ]
    }
   ],
   "source": [
    "#load npy file: \"standard frames\"\n",
    "# import numpy as np\n",
    "\n",
    "#Unpack dictionary into individual variables with same individual names as in previous session\n",
    "from operator import itemgetter\n",
    "\n",
    "def getList(dict):\n",
    "    list = []\n",
    "    for key in dict.keys():\n",
    "        list.append(key)\n",
    "          \n",
    "    return list\n",
    "\n",
    "npy_dict_name=input(\"Enter full path and filename of standard frames file to load\")\n",
    "npy_dict=np.load(npy_dict_name,allow_pickle='True')\n",
    "npy_dict=npy_dict.item()\n",
    "\n",
    "npy_dict_list=getList(npy_dict)\n",
    "print(npy_dict_list)\n",
    "print(len(npy_dict_list))\n",
    "\n",
    "for i in range(0,len(npy_dict_list)):\n",
    "    globals()[npy_dict_list[i]]=itemgetter(npy_dict_list[i])(npy_dict)\n",
    "\n",
    "%whos"
   ]
  },
  {
   "cell_type": "code",
   "execution_count": 63,
   "metadata": {},
   "outputs": [
    {
     "data": {
      "text/html": [
       "<div>\n",
       "<style scoped>\n",
       "    .dataframe tbody tr th:only-of-type {\n",
       "        vertical-align: middle;\n",
       "    }\n",
       "\n",
       "    .dataframe tbody tr th {\n",
       "        vertical-align: top;\n",
       "    }\n",
       "\n",
       "    .dataframe thead th {\n",
       "        text-align: right;\n",
       "    }\n",
       "</style>\n",
       "<table border=\"1\" class=\"dataframe\">\n",
       "  <thead>\n",
       "    <tr style=\"text-align: right;\">\n",
       "      <th></th>\n",
       "      <th>lft_ppl_ser</th>\n",
       "      <th>rt_ppl_ser</th>\n",
       "      <th>lft_whisk_ser</th>\n",
       "      <th>rt_whisk_ser</th>\n",
       "      <th>walk_ser</th>\n",
       "      <th>fr_cl_2p_ser</th>\n",
       "      <th>p_diode_ser</th>\n",
       "      <th>piezo_co_ser</th>\n",
       "      <th>ni_pzo_ser</th>\n",
       "    </tr>\n",
       "  </thead>\n",
       "  <tbody>\n",
       "    <tr>\n",
       "      <th>0.000000</th>\n",
       "      <td>0.273711</td>\n",
       "      <td>0.237261</td>\n",
       "      <td>0.041724</td>\n",
       "      <td>0.243140</td>\n",
       "      <td>3.010964</td>\n",
       "      <td>4.856720</td>\n",
       "      <td>0.000166</td>\n",
       "      <td>0.000305</td>\n",
       "      <td>-0.012207</td>\n",
       "    </tr>\n",
       "    <tr>\n",
       "      <th>0.099969</th>\n",
       "      <td>0.274084</td>\n",
       "      <td>0.226989</td>\n",
       "      <td>0.039892</td>\n",
       "      <td>0.187979</td>\n",
       "      <td>3.010913</td>\n",
       "      <td>4.852295</td>\n",
       "      <td>-0.000125</td>\n",
       "      <td>0.000458</td>\n",
       "      <td>-0.011749</td>\n",
       "    </tr>\n",
       "    <tr>\n",
       "      <th>0.199937</th>\n",
       "      <td>0.274491</td>\n",
       "      <td>0.216465</td>\n",
       "      <td>0.026297</td>\n",
       "      <td>0.014080</td>\n",
       "      <td>3.010887</td>\n",
       "      <td>-0.004883</td>\n",
       "      <td>-0.000139</td>\n",
       "      <td>-0.000153</td>\n",
       "      <td>-0.012360</td>\n",
       "    </tr>\n",
       "    <tr>\n",
       "      <th>0.299906</th>\n",
       "      <td>0.274851</td>\n",
       "      <td>0.205611</td>\n",
       "      <td>0.024303</td>\n",
       "      <td>0.015456</td>\n",
       "      <td>3.010912</td>\n",
       "      <td>4.860382</td>\n",
       "      <td>-0.000111</td>\n",
       "      <td>0.000610</td>\n",
       "      <td>-0.000763</td>\n",
       "    </tr>\n",
       "    <tr>\n",
       "      <th>0.399874</th>\n",
       "      <td>0.275454</td>\n",
       "      <td>0.204962</td>\n",
       "      <td>0.028182</td>\n",
       "      <td>0.017156</td>\n",
       "      <td>3.010954</td>\n",
       "      <td>4.858551</td>\n",
       "      <td>-0.000097</td>\n",
       "      <td>0.000305</td>\n",
       "      <td>-0.012207</td>\n",
       "    </tr>\n",
       "  </tbody>\n",
       "</table>\n",
       "</div>"
      ],
      "text/plain": [
       "          lft_ppl_ser  rt_ppl_ser  lft_whisk_ser  rt_whisk_ser  walk_ser  \\\n",
       "0.000000     0.273711    0.237261       0.041724      0.243140  3.010964   \n",
       "0.099969     0.274084    0.226989       0.039892      0.187979  3.010913   \n",
       "0.199937     0.274491    0.216465       0.026297      0.014080  3.010887   \n",
       "0.299906     0.274851    0.205611       0.024303      0.015456  3.010912   \n",
       "0.399874     0.275454    0.204962       0.028182      0.017156  3.010954   \n",
       "\n",
       "          fr_cl_2p_ser  p_diode_ser  piezo_co_ser  ni_pzo_ser  \n",
       "0.000000      4.856720     0.000166      0.000305   -0.012207  \n",
       "0.099969      4.852295    -0.000125      0.000458   -0.011749  \n",
       "0.199937     -0.004883    -0.000139     -0.000153   -0.012360  \n",
       "0.299906      4.860382    -0.000111      0.000610   -0.000763  \n",
       "0.399874      4.858551    -0.000097      0.000305   -0.012207  "
      ]
     },
     "execution_count": 63,
     "metadata": {},
     "output_type": "execute_result"
    }
   ],
   "source": [
    "behav_resamp_frame.head()"
   ]
  },
  {
   "cell_type": "code",
   "execution_count": 64,
   "metadata": {},
   "outputs": [],
   "source": [
    "xt = behav_resamp_frame.iloc[:,:5].to_numpy()"
   ]
  },
  {
   "cell_type": "code",
   "execution_count": 65,
   "metadata": {},
   "outputs": [],
   "source": [
    "yt = dfof_upsamp_frame.to_numpy()"
   ]
  },
  {
   "cell_type": "code",
   "execution_count": 66,
   "metadata": {},
   "outputs": [
    {
     "data": {
      "text/plain": [
       "((54038, 5678), (54038, 5))"
      ]
     },
     "execution_count": 66,
     "metadata": {},
     "output_type": "execute_result"
    }
   ],
   "source": [
    "yt.shape,xt.shape"
   ]
  },
  {
   "cell_type": "code",
   "execution_count": 67,
   "metadata": {},
   "outputs": [],
   "source": [
    "train_idx_list, test_idx_list = get_train_test_split(xt)"
   ]
  },
  {
   "cell_type": "code",
   "execution_count": 68,
   "metadata": {},
   "outputs": [],
   "source": [
    "x_train = xt[train_idx_list[0]]\n",
    "y_train = yt[train_idx_list[0]]\n",
    "x_test = xt[test_idx_list[0]]\n",
    "y_test = yt[test_idx_list[0]]\n",
    "\n",
    "xtr = torch.from_numpy(x_train).float()\n",
    "xte = torch.from_numpy(x_test).float()\n",
    "ytr = torch.from_numpy(y_train).float()\n",
    "yte = torch.from_numpy(y_test).float()\n"
   ]
  },
  {
   "cell_type": "code",
   "execution_count": 69,
   "metadata": {},
   "outputs": [],
   "source": [
    "input_size = xt.shape[1] # number of inputs\n",
    "output_size= yt.shape[1] # number of cells"
   ]
  },
  {
   "cell_type": "code",
   "execution_count": 70,
   "metadata": {},
   "outputs": [],
   "source": [
    "args = arg_parser(jupyter=True)\n",
    "MovModel = 1\n",
    "Kfold = 0\n",
    "args['free_move'] = True\n",
    "if args['free_move']:\n",
    "    stim_type = 'fm1'\n",
    "else:\n",
    "    stim_type = 'hf1_wn'  # 'fm1' #\n",
    "\n",
    "dates_all = ['070921/J553RT' ,'101521/J559NC','102821/J570LT','110421/J569LT']#,'122021/J581RT','020422/J577RT'] # '102621/J558NC' '062921/G6HCK1ALTRN',\n",
    "args['date_ani']        = dates_all[0]\n",
    "args['train_shifter']   = False\n",
    "args['NoL1']            = True\n",
    "args['NoL2']            = False\n",
    "args['reg_lap']         = False\n",
    "args['complex']         = False\n",
    "args['do_shuffle']      = False\n",
    "args['use_spdpup']      = True\n",
    "args['Nepochs'] = 10000\n",
    "\n",
    "\n",
    "params,file_dict,exp = load_params(MovModel,Kfold,args,{},debug=True)\n",
    "\n",
    "params['lag_list']     = [0]\n",
    "params['nt_glm_lag']   = len(params['lag_list'])\n",
    "\n"
   ]
  },
  {
   "cell_type": "code",
   "execution_count": 71,
   "metadata": {},
   "outputs": [],
   "source": [
    "params['nks'] = np.shape(xt)[1:]\n",
    "params['nk'] = params['nks'][0]*params['nt_glm_lag']\n",
    "shift_in_tr = None\n",
    "shift_in_te = None\n",
    "xtrm = None\n",
    "xtem = None\n",
    "\n",
    "# Regularization parameters\n",
    "params['move_features'] = None\n",
    "params['alphas'] = np.array([.0001 if params['NoL1']==False else None])\n",
    "if params['NoL2']:\n",
    "    params['lambdas'] = np.array([0])\n",
    "else:\n",
    "    params['lambdas'] = np.hstack((np.logspace(-2, 3, 20)))\n",
    "    params['nlam'] = len(params['lambdas'])\n",
    "if params['reg_lap']:\n",
    "    params['alpha_l'] = np.hstack((np.logspace(2, 8, 20,base=10)))\n",
    "    params['nlam'] = len(params['alpha_l'])\n",
    "else:\n",
    "    params['alpha_l'] = np.array(params['nlam']*[None])\n",
    "params['nalph'] = len(params['alphas'])\n",
    "params['lambdas_m'] = np.array(params['nlam']*[None])\n",
    "params['alphas_m'] = np.array(params['nalph']*[None])\n",
    "params['lr_w'] = [1e-5, 1e-3]\n",
    "params['lap_M'] = None\n",
    "params['NoShifter']=True\n",
    "params['lr_b'] = [1e-5, 5e-3]\n",
    "params['lr_shift'] = [1e-3,1e-2]\n",
    "params['Ncells'] = y_train.shape[-1]"
   ]
  },
  {
   "cell_type": "code",
   "execution_count": 72,
   "metadata": {},
   "outputs": [],
   "source": [
    "meanbias = torch.mean(torch.from_numpy(y_train).float(), axis=0)"
   ]
  },
  {
   "cell_type": "code",
   "execution_count": 73,
   "metadata": {},
   "outputs": [],
   "source": [
    "l1,optimizer,scheduler = get_model(input_size, output_size, meanbias, 1, device, 0, 0, params, NepochVis=10000)"
   ]
  },
  {
   "cell_type": "code",
   "execution_count": 74,
   "metadata": {},
   "outputs": [],
   "source": [
    "out = l1(xtr, xtrm, shift_in_tr)\n",
    "loss = l1.loss(out, ytr)"
   ]
  },
  {
   "cell_type": "code",
   "execution_count": 75,
   "metadata": {},
   "outputs": [
    {
     "data": {
      "text/plain": [
       "[<matplotlib.lines.Line2D at 0x7f6a9810fca0>]"
      ]
     },
     "execution_count": 75,
     "metadata": {},
     "output_type": "execute_result"
    },
    {
     "data": {
      "image/png": "[encoded data removed]",
      "text/plain": [
       "<Figure size 432x288 with 1 Axes>"
      ]
     },
     "metadata": {
      "needs_background": "light"
     },
     "output_type": "display_data"
    }
   ],
   "source": [
    "plt.plot(loss.detach().numpy())"
   ]
  },
  {
   "cell_type": "code",
   "execution_count": 56,
   "metadata": {},
   "outputs": [
    {
     "data": {
      "application/vnd.jupyter.widget-view+json": {
       "model_id": "f9389b6773564e6abd96a9f177920a9e",
       "version_major": 2,
       "version_minor": 0
      },
      "text/plain": [
       "  0%|          | 0/10000 [00:00<?, ?it/s]"
      ]
     },
     "metadata": {},
     "output_type": "display_data"
    },
    {
     "ename": "KeyboardInterrupt",
     "evalue": "",
     "output_type": "error",
     "traceback": [
      "\u001b[0;31m---------------------------------------------------------------------------\u001b[0m",
      "\u001b[0;31mKeyboardInterrupt\u001b[0m                         Traceback (most recent call last)",
      "Input \u001b[0;32mIn [56]\u001b[0m, in \u001b[0;36m<cell line: 1>\u001b[0;34m()\u001b[0m\n\u001b[0;32m----> 1\u001b[0m vloss_trace, tloss_trace, l1, optimizer, scheduler, Epoch_GLM \u001b[38;5;241m=\u001b[39m \u001b[43mtrain_model\u001b[49m\u001b[43m(\u001b[49m\u001b[43mxtr\u001b[49m\u001b[43m,\u001b[49m\u001b[43mxte\u001b[49m\u001b[43m,\u001b[49m\u001b[43mxtrm\u001b[49m\u001b[43m,\u001b[49m\u001b[43mxtem\u001b[49m\u001b[43m,\u001b[49m\u001b[43mshift_in_tr\u001b[49m\u001b[43m,\u001b[49m\u001b[43mshift_in_te\u001b[49m\u001b[43m,\u001b[49m\u001b[43mytr\u001b[49m\u001b[43m,\u001b[49m\u001b[43myte\u001b[49m\u001b[43m,\u001b[49m\u001b[43mparams\u001b[49m\u001b[43m[\u001b[49m\u001b[38;5;124;43m'\u001b[39;49m\u001b[38;5;124;43mNepochs\u001b[39;49m\u001b[38;5;124;43m'\u001b[39;49m\u001b[43m]\u001b[49m\u001b[43m,\u001b[49m\u001b[43ml1\u001b[49m\u001b[43m,\u001b[49m\u001b[43moptimizer\u001b[49m\u001b[43m,\u001b[49m\u001b[43mscheduler\u001b[49m\u001b[43m,\u001b[49m\u001b[43mpbar\u001b[49m\u001b[38;5;241;43m=\u001b[39;49m\u001b[38;5;28;43;01mNone\u001b[39;49;00m\u001b[43m)\u001b[49m\n",
      "File \u001b[0;32m/mnt/c/Users/McCormick Lab/Documents/GitHub/NonLinearMixedSel_FreelyMoving/NLMixedScripts/fit_GLM.py:255\u001b[0m, in \u001b[0;36mtrain_model\u001b[0;34m(xtr, xte, xtrm, xtem, shift_in_tr, shift_in_te, ytr, yte, Nepochs, l1, optimizer, scheduler, pbar, track_all)\u001b[0m\n\u001b[1;32m    253\u001b[0m pbar\u001b[38;5;241m.\u001b[39mrefresh()\n\u001b[1;32m    254\u001b[0m optimizer\u001b[38;5;241m.\u001b[39mzero_grad()\n\u001b[0;32m--> 255\u001b[0m \u001b[43mloss\u001b[49m\u001b[38;5;241;43m.\u001b[39;49m\u001b[43mbackward\u001b[49m\u001b[43m(\u001b[49m\u001b[43mtorch\u001b[49m\u001b[38;5;241;43m.\u001b[39;49m\u001b[43mones_like\u001b[49m\u001b[43m(\u001b[49m\u001b[43mloss\u001b[49m\u001b[43m)\u001b[49m\u001b[43m)\u001b[49m\n\u001b[1;32m    256\u001b[0m optimizer\u001b[38;5;241m.\u001b[39mstep()\n\u001b[1;32m    257\u001b[0m \u001b[38;5;28;01mif\u001b[39;00m scheduler \u001b[38;5;129;01mis\u001b[39;00m \u001b[38;5;129;01mnot\u001b[39;00m \u001b[38;5;28;01mNone\u001b[39;00m:\n",
      "File \u001b[0;32m~/miniconda3/envs/pytorchGLM/lib/python3.8/site-packages/torch/_tensor.py:363\u001b[0m, in \u001b[0;36mTensor.backward\u001b[0;34m(self, gradient, retain_graph, create_graph, inputs)\u001b[0m\n\u001b[1;32m    354\u001b[0m \u001b[38;5;28;01mif\u001b[39;00m has_torch_function_unary(\u001b[38;5;28mself\u001b[39m):\n\u001b[1;32m    355\u001b[0m     \u001b[38;5;28;01mreturn\u001b[39;00m handle_torch_function(\n\u001b[1;32m    356\u001b[0m         Tensor\u001b[38;5;241m.\u001b[39mbackward,\n\u001b[1;32m    357\u001b[0m         (\u001b[38;5;28mself\u001b[39m,),\n\u001b[0;32m   (...)\u001b[0m\n\u001b[1;32m    361\u001b[0m         create_graph\u001b[38;5;241m=\u001b[39mcreate_graph,\n\u001b[1;32m    362\u001b[0m         inputs\u001b[38;5;241m=\u001b[39minputs)\n\u001b[0;32m--> 363\u001b[0m \u001b[43mtorch\u001b[49m\u001b[38;5;241;43m.\u001b[39;49m\u001b[43mautograd\u001b[49m\u001b[38;5;241;43m.\u001b[39;49m\u001b[43mbackward\u001b[49m\u001b[43m(\u001b[49m\u001b[38;5;28;43mself\u001b[39;49m\u001b[43m,\u001b[49m\u001b[43m \u001b[49m\u001b[43mgradient\u001b[49m\u001b[43m,\u001b[49m\u001b[43m \u001b[49m\u001b[43mretain_graph\u001b[49m\u001b[43m,\u001b[49m\u001b[43m \u001b[49m\u001b[43mcreate_graph\u001b[49m\u001b[43m,\u001b[49m\u001b[43m \u001b[49m\u001b[43minputs\u001b[49m\u001b[38;5;241;43m=\u001b[39;49m\u001b[43minputs\u001b[49m\u001b[43m)\u001b[49m\n",
      "File \u001b[0;32m~/miniconda3/envs/pytorchGLM/lib/python3.8/site-packages/torch/autograd/__init__.py:173\u001b[0m, in \u001b[0;36mbackward\u001b[0;34m(tensors, grad_tensors, retain_graph, create_graph, grad_variables, inputs)\u001b[0m\n\u001b[1;32m    168\u001b[0m     retain_graph \u001b[38;5;241m=\u001b[39m create_graph\n\u001b[1;32m    170\u001b[0m \u001b[38;5;66;03m# The reason we repeat same the comment below is that\u001b[39;00m\n\u001b[1;32m    171\u001b[0m \u001b[38;5;66;03m# some Python versions print out the first line of a multi-line function\u001b[39;00m\n\u001b[1;32m    172\u001b[0m \u001b[38;5;66;03m# calls in the traceback and some print out the last line\u001b[39;00m\n\u001b[0;32m--> 173\u001b[0m \u001b[43mVariable\u001b[49m\u001b[38;5;241;43m.\u001b[39;49m\u001b[43m_execution_engine\u001b[49m\u001b[38;5;241;43m.\u001b[39;49m\u001b[43mrun_backward\u001b[49m\u001b[43m(\u001b[49m\u001b[43m  \u001b[49m\u001b[38;5;66;43;03m# Calls into the C++ engine to run the backward pass\u001b[39;49;00m\n\u001b[1;32m    174\u001b[0m \u001b[43m    \u001b[49m\u001b[43mtensors\u001b[49m\u001b[43m,\u001b[49m\u001b[43m \u001b[49m\u001b[43mgrad_tensors_\u001b[49m\u001b[43m,\u001b[49m\u001b[43m \u001b[49m\u001b[43mretain_graph\u001b[49m\u001b[43m,\u001b[49m\u001b[43m \u001b[49m\u001b[43mcreate_graph\u001b[49m\u001b[43m,\u001b[49m\u001b[43m \u001b[49m\u001b[43minputs\u001b[49m\u001b[43m,\u001b[49m\n\u001b[1;32m    175\u001b[0m \u001b[43m    \u001b[49m\u001b[43mallow_unreachable\u001b[49m\u001b[38;5;241;43m=\u001b[39;49m\u001b[38;5;28;43;01mTrue\u001b[39;49;00m\u001b[43m,\u001b[49m\u001b[43m \u001b[49m\u001b[43maccumulate_grad\u001b[49m\u001b[38;5;241;43m=\u001b[39;49m\u001b[38;5;28;43;01mTrue\u001b[39;49;00m\u001b[43m)\u001b[49m\n",
      "\u001b[0;31mKeyboardInterrupt\u001b[0m: "
     ]
    }
   ],
   "source": [
    "vloss_trace, tloss_trace, l1, optimizer, scheduler, Epoch_GLM = train_model(xtr,xte,xtrm,xtem,shift_in_tr,shift_in_te,ytr,yte,params['Nepochs'],l1,optimizer,scheduler,pbar=None)"
   ]
  },
  {
   "cell_type": "code",
   "execution_count": 77,
   "metadata": {},
   "outputs": [],
   "source": [
    "pred = l1(xte, xtem, shift_in_te)\n",
    "pred_test = pred.detach().numpy()\n",
    "r2_test = np.array([(np.corrcoef(y_test[:,celln],pred_test[:,celln])[0, 1])**2 for celln in range(params['Ncells'])])"
   ]
  },
  {
   "cell_type": "code",
   "execution_count": 78,
   "metadata": {},
   "outputs": [
    {
     "data": {
      "text/plain": [
       "array([       nan, 0.05196764,        nan, ..., 0.00019907, 0.00242629,\n",
       "       0.00045736])"
      ]
     },
     "execution_count": 78,
     "metadata": {},
     "output_type": "execute_result"
    }
   ],
   "source": [
    "r2_test"
   ]
  },
  {
   "cell_type": "code",
   "execution_count": null,
   "metadata": {},
   "outputs": [],
   "source": []
  }
 ],
 "metadata": {
  "kernelspec": {
   "display_name": "Python [conda env:pytorchGLM]",
   "language": "python",
   "name": "conda-env-pytorchGLM-py"
  },
  "language_info": {
   "codemirror_mode": {
    "name": "ipython",
    "version": 3
   },
   "file_extension": ".py",
   "mimetype": "text/x-python",
   "name": "python",
   "nbconvert_exporter": "python",
   "pygments_lexer": "ipython3",
   "version": "3.8.0"
  }
 },
 "nbformat": 4,
 "nbformat_minor": 4
}
